{
  "nbformat": 4,
  "nbformat_minor": 0,
  "metadata": {
    "colab": {
      "provenance": [],
      "authorship_tag": "ABX9TyNn9K1Fh9mZgK6y8X3mQDNI",
      "include_colab_link": true
    },
    "kernelspec": {
      "name": "python3",
      "display_name": "Python 3"
    },
    "language_info": {
      "name": "python"
    }
  },
  "cells": [
    {
      "cell_type": "markdown",
      "metadata": {
        "id": "view-in-github",
        "colab_type": "text"
      },
      "source": [
        "<a href=\"https://colab.research.google.com/github/arflores315/Moduloary1.2Python/blob/main/aridai__flores__proyectom2_py.ipynb\" target=\"_parent\"><img src=\"https://colab.research.google.com/assets/colab-badge.svg\" alt=\"Open In Colab\"/></a>"
      ]
    },
    {
      "cell_type": "markdown",
      "source": [
        "#palabra que genera una contraseña de 8 caracteres a partir de 3 palabras dadas por el usuario"
      ],
      "metadata": {
        "id": "IJR3WjYsgU2E"
      }
    },
    {
      "cell_type": "markdown",
      "source": [
        "Palabra1=input(\"universo\")"
      ],
      "metadata": {
        "id": "hBwvHpZVgq9k"
      }
    },
    {
      "cell_type": "markdown",
      "source": [
        "Palabra2=input(\"galaxia\")"
      ],
      "metadata": {
        "id": "23nEs9aHhAzn"
      }
    },
    {
      "cell_type": "markdown",
      "source": [
        "Palabra3=input(\"marte\")"
      ],
      "metadata": {
        "id": "4HdovpG8hR1k"
      }
    },
    {
      "cell_type": "markdown",
      "source": [
        "Si la palabra es de menos de 2 caracteres, se rellena con x"
      ],
      "metadata": {
        "id": "NfyW0i3nhiiT"
      }
    },
    {
      "cell_type": "markdown",
      "source": [
        "If len (palabra1)<2:\n",
        "Palabra1=\"x\"+palabra1"
      ],
      "metadata": {
        "id": "GmjOZrsphwC1"
      }
    },
    {
      "cell_type": "markdown",
      "source": [
        "If len(palabra2)<2:\n",
        "Palabra2=\"x\"+ palabra2"
      ],
      "metadata": {
        "id": "qCzw7HYWiErh"
      }
    },
    {
      "cell_type": "markdown",
      "source": [
        "If len (palabra3)<2:\n",
        "Palabra3=\"x\"+ palabra3"
      ],
      "metadata": {
        "id": "QX1lBbTdimG_"
      }
    },
    {
      "cell_type": "markdown",
      "source": [],
      "metadata": {
        "id": "XGKAKkzgkEv0"
      }
    },
    {
      "cell_type": "markdown",
      "source": [
        "Se genera la contraseña\n",
        "Contraseña=palabra1[0]+palabra2[0]+palabra3[1] print(\"universo)"
      ],
      "metadata": {
        "id": "M-N_6bDyjBcx"
      }
    },
    {
      "cell_type": "markdown",
      "source": [
        "Contraseña_usuario =input(universo)"
      ],
      "metadata": {
        "id": "jFP71MQkke4b"
      }
    },
    {
      "cell_type": "markdown",
      "source": [
        "If len(contraseña _usuario)<len(contraseña):print(\"falta\",len(contraseña)-len(contraseña _usuario),\"caracteres \")"
      ],
      "metadata": {
        "id": "ObPGqbUskumP"
      }
    },
    {
      "cell_type": "markdown",
      "source": [
        "elif len(contraseña_usuario)>len(contraseña):\n",
        "Print(\"sobran\",len(contraseña_usuario)>len(contraseña):print(\"sobran\",len(contraseña _usuario)-len(contraseña),\"caracteres\")"
      ],
      "metadata": {
        "id": "KzRfKpsfnO6Y"
      }
    },
    {
      "cell_type": "markdown",
      "source": [
        "elif contraseña_usuario==contraseña:\n",
        "Print(\"contraseña correcta\")"
      ],
      "metadata": {
        "id": "JiwBqZc8oqQm"
      }
    },
    {
      "cell_type": "markdown",
      "source": [
        "else:print(\"contraseña incorrecta\")"
      ],
      "metadata": {
        "id": "4nXuemVHpHnN"
      }
    }
  ]
}