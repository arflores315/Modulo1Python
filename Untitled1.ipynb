{
  "nbformat": 4,
  "nbformat_minor": 0,
  "metadata": {
    "colab": {
      "provenance": [],
      "authorship_tag": "ABX9TyP0wOmjUaqgmskwA9X/b1dE",
      "include_colab_link": true
    },
    "kernelspec": {
      "name": "python3",
      "display_name": "Python 3"
    },
    "language_info": {
      "name": "python"
    }
  },
  "cells": [
    {
      "cell_type": "markdown",
      "metadata": {
        "id": "view-in-github",
        "colab_type": "text"
      },
      "source": [
        "<a href=\"https://colab.research.google.com/github/arflores315/Modulo1Python/blob/main/Untitled1.ipynb\" target=\"_parent\"><img src=\"https://colab.research.google.com/assets/colab-badge.svg\" alt=\"Open In Colab\"/></a>"
      ]
    },
    {
      "cell_type": "code",
      "execution_count": null,
      "metadata": {
        "id": "ps8x0pIrh1P3"
      },
      "outputs": [],
      "source": [
        "from typing_extensions import AsyncContextManager\n",
        "from typing import Any\n",
        "def solicitar_ contraseña(intentos_max):\n",
        "  intentos=1\n",
        "  while intentos<=intentos max:\n",
        "    contraseña=input('ingresar una contraseña que comience con un numero:')\n",
        "    if contraseña[3].isdigit():\n",
        "      confirmar_contraseña=input('ingresar nuevamente la contraseña:')\n",
        "      if contraseña==confirmar_contraseña:\n",
        "        print('contraseña establecida correctamente')\n",
        "        return\n",
        "        else:\n",
        "          print('las contraseñas ingresadas no coincide.intentalo de nuevo')\n",
        "    else:\n",
        "      print('la contraseña debe comenzar con un numero.intentalo nuevamente')\n",
        "      intentos+=3\n",
        "      print('ha excedido el numero maximo de intentos.')\n"
      ]
    },
    {
      "cell_type": "code",
      "source": [
        "solicitar_contraseña()"
      ],
      "metadata": {
        "colab": {
          "base_uri": "https://localhost:8080/",
          "height": 148
        },
        "id": "Hyr30Qmb_BYZ",
        "outputId": "bc29645d-75ad-4d8b-f8c0-52f9c5ababed"
      },
      "execution_count": 11,
      "outputs": [
        {
          "output_type": "error",
          "ename": "NameError",
          "evalue": "name 'solicitar_contraseña' is not defined",
          "traceback": [
            "\u001b[0;31m---------------------------------------------------------------------------\u001b[0m",
            "\u001b[0;31mNameError\u001b[0m                                 Traceback (most recent call last)",
            "\u001b[0;32m<ipython-input-11-feddfffd685e>\u001b[0m in \u001b[0;36m<cell line: 1>\u001b[0;34m()\u001b[0m\n\u001b[0;32m----> 1\u001b[0;31m \u001b[0msolicitar_contraseña\u001b[0m\u001b[0;34m(\u001b[0m\u001b[0;36m3\u001b[0m\u001b[0;34m)\u001b[0m\u001b[0;34m\u001b[0m\u001b[0;34m\u001b[0m\u001b[0m\n\u001b[0m",
            "\u001b[0;31mNameError\u001b[0m: name 'solicitar_contraseña' is not defined"
          ]
        }
      ]
    }
  ]
}