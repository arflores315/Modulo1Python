{
  "nbformat": 4,
  "nbformat_minor": 0,
  "metadata": {
    "colab": {
      "provenance": [],
      "authorship_tag": "ABX9TyOiP9KsSNggmJVvZfR7Jmgv",
      "include_colab_link": true
    },
    "kernelspec": {
      "name": "python3",
      "display_name": "Python 3"
    },
    "language_info": {
      "name": "python"
    }
  },
  "cells": [
    {
      "cell_type": "markdown",
      "metadata": {
        "id": "view-in-github",
        "colab_type": "text"
      },
      "source": [
        "<a href=\"https://colab.research.google.com/github/arflores315/Moduloary1.2Python/blob/main/proyecto4phython.ipynb\" target=\"_parent\"><img src=\"https://colab.research.google.com/assets/colab-badge.svg\" alt=\"Open In Colab\"/></a>"
      ]
    },
    {
      "cell_type": "code",
      "source": [
        "import requests"
      ],
      "metadata": {
        "id": "2xbGeigopIbd"
      },
      "execution_count": 16,
      "outputs": []
    },
    {
      "cell_type": "code",
      "execution_count": 26,
      "metadata": {
        "id": "BjSELdIwlUan"
      },
      "outputs": [],
      "source": [
        "\n",
        "import json\n",
        "url='http://pokeapi.co/api/v2/pokemon/'\n",
        "def buscarpokemon(num):\n",
        "    peticion= requests.get(url+str(num))\n",
        "    respuesta=json.loads(peticion.content)\n",
        "    print(respuesta['name'])\n",
        ""
      ]
    },
    {
      "cell_type": "code",
      "source": [
        "buscarpokemon(254)"
      ],
      "metadata": {
        "colab": {
          "base_uri": "https://localhost:8080/"
        },
        "id": "A81jWOWPpHSz",
        "outputId": "39853f8c-a0ac-42a7-dbd9-f436e2922dca"
      },
      "execution_count": 27,
      "outputs": [
        {
          "output_type": "stream",
          "name": "stdout",
          "text": [
            "sceptile\n"
          ]
        }
      ]
    },
    {
      "cell_type": "code",
      "source": [
        "buscarpokemon(150)"
      ],
      "metadata": {
        "colab": {
          "base_uri": "https://localhost:8080/"
        },
        "id": "dbdvEfCFqs6a",
        "outputId": "2e489fff-55ac-4f7c-c089-0b83518ef23b"
      },
      "execution_count": 29,
      "outputs": [
        {
          "output_type": "stream",
          "name": "stdout",
          "text": [
            "mewtwo\n"
          ]
        }
      ]
    },
    {
      "cell_type": "code",
      "source": [
        "buscarpokemon(898)"
      ],
      "metadata": {
        "colab": {
          "base_uri": "https://localhost:8080/"
        },
        "id": "TntJO1VUrIHS",
        "outputId": "febc45c5-456c-4537-98e7-17a54d7f03c8"
      },
      "execution_count": 30,
      "outputs": [
        {
          "output_type": "stream",
          "name": "stdout",
          "text": [
            "calyrex\n"
          ]
        }
      ]
    }
  ]
}