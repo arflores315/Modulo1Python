{
  "nbformat": 4,
  "nbformat_minor": 0,
  "metadata": {
    "colab": {
      "provenance": [],
      "authorship_tag": "ABX9TyN9V8gtQTh44qwg3Zt/sB62",
      "include_colab_link": true
    },
    "kernelspec": {
      "name": "python3",
      "display_name": "Python 3"
    },
    "language_info": {
      "name": "python"
    }
  },
  "cells": [
    {
      "cell_type": "markdown",
      "metadata": {
        "id": "view-in-github",
        "colab_type": "text"
      },
      "source": [
        "<a href=\"https://colab.research.google.com/github/arflores315/Modulo1Python/blob/main/ary1.5python.ipynb\" target=\"_parent\"><img src=\"https://colab.research.google.com/assets/colab-badge.svg\" alt=\"Open In Colab\"/></a>"
      ]
    },
    {
      "cell_type": "code",
      "source": [
        "daniela"
      ],
      "metadata": {
        "id": "bSmZ3isAOfav"
      },
      "execution_count": null,
      "outputs": []
    },
    {
      "cell_type": "code",
      "source": [
        "nombre=input('daniela')"
      ],
      "metadata": {
        "id": "6GXmtyhWOiab"
      },
      "execution_count": null,
      "outputs": []
    },
    {
      "cell_type": "code",
      "source": [
        "apellido=input('gonzales')"
      ],
      "metadata": {
        "id": "knbmaeTzQ7ey"
      },
      "execution_count": null,
      "outputs": []
    },
    {
      "cell_type": "code",
      "source": [
        "print=input(apellido)"
      ],
      "metadata": {
        "id": "ffY_UfovSM5k"
      },
      "execution_count": null,
      "outputs": []
    },
    {
      "cell_type": "code",
      "source": [
        "apellido=input('montolla')"
      ],
      "metadata": {
        "id": "lyUR0n9SUr0s"
      },
      "execution_count": null,
      "outputs": []
    },
    {
      "cell_type": "code",
      "source": [
        "print=input(apellido)"
      ],
      "metadata": {
        "colab": {
          "base_uri": "https://localhost:8080/"
        },
        "id": "FKTiRz-XUzzz",
        "outputId": "5ae81cd0-323d-40f0-f34c-a38fba37701c"
      },
      "execution_count": null,
      "outputs": [
        {
          "output_type": "stream",
          "name": "stdout",
          "text": [
            "montolla\n"
          ]
        }
      ]
    },
    {
      "cell_type": "code",
      "source": [
        "edad=input(40)"
      ],
      "metadata": {
        "id": "zHQ4m6rjpiHt"
      },
      "execution_count": null,
      "outputs": []
    },
    {
      "cell_type": "code",
      "source": [
        "peso=input(61)"
      ],
      "metadata": {
        "id": "gNLy0AtbpTIN"
      },
      "execution_count": null,
      "outputs": []
    },
    {
      "cell_type": "code",
      "source": [
        "estatura=input(2)"
      ],
      "metadata": {
        "id": "_M1H_QBQqW8N"
      },
      "execution_count": null,
      "outputs": []
    },
    {
      "cell_type": "code",
      "source": [
        "imc=peso/estatura**2\n"
      ],
      "metadata": {
        "id": "7NVKu3zpqdzc"
      },
      "execution_count": null,
      "outputs": []
    },
    {
      "cell_type": "code",
      "source": [
        "def calcular_imc(peso,altura):\n",
        "  peso_kg=peso/(altura_m**2)"
      ],
      "metadata": {
        "id": "D0cfldYpuuEP"
      },
      "execution_count": null,
      "outputs": []
    },
    {
      "cell_type": "code",
      "source": [
        "print=input(imc)"
      ],
      "metadata": {
        "colab": {
          "base_uri": "https://localhost:8080/"
        },
        "id": "t_nHyp4IxhTV",
        "outputId": "3fb98b96-8243-45ad-aa73-1de86d18b324"
      },
      "execution_count": null,
      "outputs": [
        {
          "output_type": "stream",
          "name": "stdout",
          "text": [
            "15.25\n"
          ]
        }
      ]
    }
  ]
}